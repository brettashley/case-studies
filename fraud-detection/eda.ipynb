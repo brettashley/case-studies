{
 "cells": [
  {
   "cell_type": "code",
   "execution_count": 181,
   "metadata": {},
   "outputs": [],
   "source": [
    "import numpy as np\n",
    "import pandas as pd\n",
    "import matplotlib.pyplot as plt\n",
    "from encoder import Encoder\n",
    "from sklearn.linear_model import LogisticRegression\n",
    "from sklearn.model_selection import train_test_split\n",
    "from sklearn.preprocessing import StandardScaler\n",
    "from sklearn.pipeline import Pipeline\n",
    "from sklearn.metrics import log_loss"
   ]
  },
  {
   "cell_type": "code",
   "execution_count": 7,
   "metadata": {},
   "outputs": [
    {
     "name": "stdout",
     "output_type": "stream",
     "text": [
      "basis_expansions.py    dftransformers.py\r\n",
      "categorical_plot.py    regression_helpers.py\r\n"
     ]
    }
   ],
   "source": [
    "ls src"
   ]
  },
  {
   "cell_type": "code",
   "execution_count": 8,
   "metadata": {},
   "outputs": [],
   "source": [
    "data = pd.read_csv('Fraud_Data.csv')"
   ]
  },
  {
   "cell_type": "code",
   "execution_count": 9,
   "metadata": {},
   "outputs": [
    {
     "data": {
      "text/html": [
       "<div>\n",
       "<style scoped>\n",
       "    .dataframe tbody tr th:only-of-type {\n",
       "        vertical-align: middle;\n",
       "    }\n",
       "\n",
       "    .dataframe tbody tr th {\n",
       "        vertical-align: top;\n",
       "    }\n",
       "\n",
       "    .dataframe thead th {\n",
       "        text-align: right;\n",
       "    }\n",
       "</style>\n",
       "<table border=\"1\" class=\"dataframe\">\n",
       "  <thead>\n",
       "    <tr style=\"text-align: right;\">\n",
       "      <th></th>\n",
       "      <th>user_id</th>\n",
       "      <th>signup_time</th>\n",
       "      <th>purchase_time</th>\n",
       "      <th>purchase_value</th>\n",
       "      <th>device_id</th>\n",
       "      <th>source</th>\n",
       "      <th>browser</th>\n",
       "      <th>sex</th>\n",
       "      <th>age</th>\n",
       "      <th>ip_address</th>\n",
       "      <th>class</th>\n",
       "    </tr>\n",
       "  </thead>\n",
       "  <tbody>\n",
       "    <tr>\n",
       "      <th>0</th>\n",
       "      <td>22058</td>\n",
       "      <td>2015-02-24 22:55:49</td>\n",
       "      <td>2015-04-18 02:47:11</td>\n",
       "      <td>34</td>\n",
       "      <td>QVPSPJUOCKZAR</td>\n",
       "      <td>SEO</td>\n",
       "      <td>Chrome</td>\n",
       "      <td>M</td>\n",
       "      <td>39</td>\n",
       "      <td>7.327584e+08</td>\n",
       "      <td>0</td>\n",
       "    </tr>\n",
       "    <tr>\n",
       "      <th>1</th>\n",
       "      <td>333320</td>\n",
       "      <td>2015-06-07 20:39:50</td>\n",
       "      <td>2015-06-08 01:38:54</td>\n",
       "      <td>16</td>\n",
       "      <td>EOGFQPIZPYXFZ</td>\n",
       "      <td>Ads</td>\n",
       "      <td>Chrome</td>\n",
       "      <td>F</td>\n",
       "      <td>53</td>\n",
       "      <td>3.503114e+08</td>\n",
       "      <td>0</td>\n",
       "    </tr>\n",
       "    <tr>\n",
       "      <th>2</th>\n",
       "      <td>1359</td>\n",
       "      <td>2015-01-01 18:52:44</td>\n",
       "      <td>2015-01-01 18:52:45</td>\n",
       "      <td>15</td>\n",
       "      <td>YSSKYOSJHPPLJ</td>\n",
       "      <td>SEO</td>\n",
       "      <td>Opera</td>\n",
       "      <td>M</td>\n",
       "      <td>53</td>\n",
       "      <td>2.621474e+09</td>\n",
       "      <td>1</td>\n",
       "    </tr>\n",
       "    <tr>\n",
       "      <th>3</th>\n",
       "      <td>150084</td>\n",
       "      <td>2015-04-28 21:13:25</td>\n",
       "      <td>2015-05-04 13:54:50</td>\n",
       "      <td>44</td>\n",
       "      <td>ATGTXKYKUDUQN</td>\n",
       "      <td>SEO</td>\n",
       "      <td>Safari</td>\n",
       "      <td>M</td>\n",
       "      <td>41</td>\n",
       "      <td>3.840542e+09</td>\n",
       "      <td>0</td>\n",
       "    </tr>\n",
       "    <tr>\n",
       "      <th>4</th>\n",
       "      <td>221365</td>\n",
       "      <td>2015-07-21 07:09:52</td>\n",
       "      <td>2015-09-09 18:40:53</td>\n",
       "      <td>39</td>\n",
       "      <td>NAUITBZFJKHWW</td>\n",
       "      <td>Ads</td>\n",
       "      <td>Safari</td>\n",
       "      <td>M</td>\n",
       "      <td>45</td>\n",
       "      <td>4.155831e+08</td>\n",
       "      <td>0</td>\n",
       "    </tr>\n",
       "  </tbody>\n",
       "</table>\n",
       "</div>"
      ],
      "text/plain": [
       "   user_id          signup_time        purchase_time  purchase_value  \\\n",
       "0    22058  2015-02-24 22:55:49  2015-04-18 02:47:11              34   \n",
       "1   333320  2015-06-07 20:39:50  2015-06-08 01:38:54              16   \n",
       "2     1359  2015-01-01 18:52:44  2015-01-01 18:52:45              15   \n",
       "3   150084  2015-04-28 21:13:25  2015-05-04 13:54:50              44   \n",
       "4   221365  2015-07-21 07:09:52  2015-09-09 18:40:53              39   \n",
       "\n",
       "       device_id source browser sex  age    ip_address  class  \n",
       "0  QVPSPJUOCKZAR    SEO  Chrome   M   39  7.327584e+08      0  \n",
       "1  EOGFQPIZPYXFZ    Ads  Chrome   F   53  3.503114e+08      0  \n",
       "2  YSSKYOSJHPPLJ    SEO   Opera   M   53  2.621474e+09      1  \n",
       "3  ATGTXKYKUDUQN    SEO  Safari   M   41  3.840542e+09      0  \n",
       "4  NAUITBZFJKHWW    Ads  Safari   M   45  4.155831e+08      0  "
      ]
     },
     "execution_count": 9,
     "metadata": {},
     "output_type": "execute_result"
    }
   ],
   "source": [
    "data.head()"
   ]
  },
  {
   "cell_type": "code",
   "execution_count": 10,
   "metadata": {},
   "outputs": [],
   "source": [
    "ip_country = pd.read_csv('IpAddress_to_Country.csv')"
   ]
  },
  {
   "cell_type": "code",
   "execution_count": 11,
   "metadata": {},
   "outputs": [
    {
     "name": "stdout",
     "output_type": "stream",
     "text": [
      "<class 'pandas.core.frame.DataFrame'>\n",
      "RangeIndex: 138846 entries, 0 to 138845\n",
      "Data columns (total 3 columns):\n",
      "lower_bound_ip_address    138846 non-null float64\n",
      "upper_bound_ip_address    138846 non-null int64\n",
      "country                   138846 non-null object\n",
      "dtypes: float64(1), int64(1), object(1)\n",
      "memory usage: 3.2+ MB\n"
     ]
    }
   ],
   "source": [
    "ip_country.info()"
   ]
  },
  {
   "cell_type": "code",
   "execution_count": 12,
   "metadata": {},
   "outputs": [
    {
     "data": {
      "text/plain": [
       "4554"
      ]
     },
     "execution_count": 12,
     "metadata": {},
     "output_type": "execute_result"
    }
   ],
   "source": [
    "diff = (ip_country['upper_bound_ip_address'] - data['ip_address'][0])\n",
    "diff[diff > 0].idxmin()"
   ]
  },
  {
   "cell_type": "code",
   "execution_count": 13,
   "metadata": {},
   "outputs": [
    {
     "name": "stdout",
     "output_type": "stream",
     "text": [
      "True\n",
      "True\n"
     ]
    }
   ],
   "source": [
    "print(ip_country['upper_bound_ip_address'][4554] > data['ip_address'][0])\n",
    "print(ip_country['lower_bound_ip_address'][4554] < data['ip_address'][0])"
   ]
  },
  {
   "cell_type": "code",
   "execution_count": 29,
   "metadata": {},
   "outputs": [],
   "source": [
    "def find_ip_country(ip_address):\n",
    "    diff = ip_country['upper_bound_ip_address'] - ip_address\n",
    "    if len(diff[diff > 0]) == 0:\n",
    "        return '[not specified]'\n",
    "    country_idx = diff[diff > 0].idxmin()\n",
    "    return ip_country.loc[country_idx, 'country']"
   ]
  },
  {
   "cell_type": "code",
   "execution_count": 15,
   "metadata": {},
   "outputs": [
    {
     "data": {
      "text/plain": [
       "'Japan'"
      ]
     },
     "execution_count": 15,
     "metadata": {},
     "output_type": "execute_result"
    }
   ],
   "source": [
    "ip_country.loc[4554, 'country']"
   ]
  },
  {
   "cell_type": "code",
   "execution_count": 16,
   "metadata": {},
   "outputs": [
    {
     "data": {
      "text/plain": [
       "0"
      ]
     },
     "execution_count": 16,
     "metadata": {},
     "output_type": "execute_result"
    }
   ],
   "source": [
    "len(ip_country.loc[ip_country['upper_bound_ip_address'] > 3758096383, 'upper_bound_ip_address'])"
   ]
  },
  {
   "cell_type": "code",
   "execution_count": 17,
   "metadata": {},
   "outputs": [
    {
     "data": {
      "text/html": [
       "<div>\n",
       "<style scoped>\n",
       "    .dataframe tbody tr th:only-of-type {\n",
       "        vertical-align: middle;\n",
       "    }\n",
       "\n",
       "    .dataframe tbody tr th {\n",
       "        vertical-align: top;\n",
       "    }\n",
       "\n",
       "    .dataframe thead th {\n",
       "        text-align: right;\n",
       "    }\n",
       "</style>\n",
       "<table border=\"1\" class=\"dataframe\">\n",
       "  <thead>\n",
       "    <tr style=\"text-align: right;\">\n",
       "      <th></th>\n",
       "      <th>user_id</th>\n",
       "      <th>signup_time</th>\n",
       "      <th>purchase_time</th>\n",
       "      <th>purchase_value</th>\n",
       "      <th>device_id</th>\n",
       "      <th>source</th>\n",
       "      <th>browser</th>\n",
       "      <th>sex</th>\n",
       "      <th>age</th>\n",
       "      <th>ip_address</th>\n",
       "      <th>class</th>\n",
       "    </tr>\n",
       "  </thead>\n",
       "  <tbody>\n",
       "    <tr>\n",
       "      <th>3</th>\n",
       "      <td>150084</td>\n",
       "      <td>2015-04-28 21:13:25</td>\n",
       "      <td>2015-05-04 13:54:50</td>\n",
       "      <td>44</td>\n",
       "      <td>ATGTXKYKUDUQN</td>\n",
       "      <td>SEO</td>\n",
       "      <td>Safari</td>\n",
       "      <td>M</td>\n",
       "      <td>41</td>\n",
       "      <td>3.840542e+09</td>\n",
       "      <td>0</td>\n",
       "    </tr>\n",
       "  </tbody>\n",
       "</table>\n",
       "</div>"
      ],
      "text/plain": [
       "   user_id          signup_time        purchase_time  purchase_value  \\\n",
       "3   150084  2015-04-28 21:13:25  2015-05-04 13:54:50              44   \n",
       "\n",
       "       device_id source browser sex  age    ip_address  class  \n",
       "3  ATGTXKYKUDUQN    SEO  Safari   M   41  3.840542e+09      0  "
      ]
     },
     "execution_count": 17,
     "metadata": {},
     "output_type": "execute_result"
    }
   ],
   "source": [
    "data.loc[data['ip_address'] == 3840542443.91396]"
   ]
  },
  {
   "cell_type": "code",
   "execution_count": 18,
   "metadata": {},
   "outputs": [
    {
     "data": {
      "text/plain": [
       "3758096383"
      ]
     },
     "execution_count": 18,
     "metadata": {},
     "output_type": "execute_result"
    }
   ],
   "source": [
    "max(ip_country['upper_bound_ip_address'])"
   ]
  },
  {
   "cell_type": "code",
   "execution_count": 19,
   "metadata": {},
   "outputs": [],
   "source": [
    "data['country'] = data['ip_address'].apply(find_ip_country)"
   ]
  },
  {
   "cell_type": "code",
   "execution_count": 39,
   "metadata": {},
   "outputs": [],
   "source": [
    "data['signup_dt'] = pd.to_datetime(data['signup_time'])\n",
    "data['purchase_dt'] = pd.to_datetime(data['purchase_time'])"
   ]
  },
  {
   "cell_type": "code",
   "execution_count": 40,
   "metadata": {},
   "outputs": [
    {
     "data": {
      "text/plain": [
       "Timedelta('52 days 03:51:22')"
      ]
     },
     "execution_count": 40,
     "metadata": {},
     "output_type": "execute_result"
    }
   ],
   "source": [
    "data.loc[0, 'purchase_dt'] - data.loc[0, 'signup_dt']"
   ]
  },
  {
   "cell_type": "code",
   "execution_count": 47,
   "metadata": {},
   "outputs": [],
   "source": [
    "def dt_diff(row):\n",
    "    return row['purchase_dt'] - row['signup_dt']\n",
    "\n",
    "data['dt_diff'] = data.apply(dt_diff, axis=1)"
   ]
  },
  {
   "cell_type": "code",
   "execution_count": 54,
   "metadata": {},
   "outputs": [
    {
     "data": {
      "text/plain": [
       "52"
      ]
     },
     "execution_count": 54,
     "metadata": {},
     "output_type": "execute_result"
    }
   ],
   "source": []
  },
  {
   "cell_type": "code",
   "execution_count": 82,
   "metadata": {},
   "outputs": [],
   "source": [
    "data['payment_lag_days'] = data['dt_diff'].apply(lambda x: x.days)"
   ]
  },
  {
   "cell_type": "code",
   "execution_count": 83,
   "metadata": {},
   "outputs": [
    {
     "data": {
      "text/plain": [
       "Index(['user_id', 'signup_time', 'purchase_time', 'purchase_value',\n",
       "       'device_id', 'source', 'browser', 'sex', 'age', 'ip_address', 'class',\n",
       "       'country', 'signup_dt', 'purchase_dt', 'dt_diff', 'payment_lag_days'],\n",
       "      dtype='object')"
      ]
     },
     "execution_count": 83,
     "metadata": {},
     "output_type": "execute_result"
    }
   ],
   "source": [
    "data.columns"
   ]
  },
  {
   "cell_type": "code",
   "execution_count": 123,
   "metadata": {},
   "outputs": [
    {
     "data": {
      "text/plain": [
       "Index(['purchase_value', 'source', 'browser', 'sex', 'age', 'country',\n",
       "       'payment_lag_days'],\n",
       "      dtype='object')"
      ]
     },
     "execution_count": 123,
     "metadata": {},
     "output_type": "execute_result"
    }
   ],
   "source": [
    "df.columns"
   ]
  },
  {
   "cell_type": "code",
   "execution_count": 142,
   "metadata": {},
   "outputs": [],
   "source": [
    "cols_to_standardize = ['purchase_value', 'age', 'payment_lag_days']\n",
    "std_columns = [col + '_std' for col in cols_to_standardize]\n",
    "ss = StandardScaler()\n",
    "std_df = pd.DataFrame(ss.fit_transform(df[cols_to_standardize].astype(float)),\n",
    "                             columns=std_columns)"
   ]
  },
  {
   "cell_type": "code",
   "execution_count": 143,
   "metadata": {},
   "outputs": [],
   "source": [
    "data = data.merge(std_df, left_index=True, right_index=True)"
   ]
  },
  {
   "cell_type": "code",
   "execution_count": 144,
   "metadata": {},
   "outputs": [],
   "source": [
    "cols_to_drop = (['user_id', 'signup_time', 'purchase_time',\n",
    "                 'device_id', 'ip_address', 'signup_dt', \n",
    "                 'purchase_dt', 'class', 'dt_diff',\n",
    "                 'purchase_value', 'age', 'payment_lag_days'])\n",
    "df = data.drop(cols_to_drop, axis=1)"
   ]
  },
  {
   "cell_type": "code",
   "execution_count": 167,
   "metadata": {},
   "outputs": [],
   "source": [
    "enc = Encoder(columns=['source', 'browser', 'sex', 'country'], thresh=5)"
   ]
  },
  {
   "cell_type": "code",
   "execution_count": 168,
   "metadata": {},
   "outputs": [
    {
     "name": "stdout",
     "output_type": "stream",
     "text": [
      "purchase_value_std\n",
      "age_std\n",
      "payment_lag_days_std\n",
      "source_SEO\n",
      "source_Ads\n",
      "source_Direct\n",
      "browser_Chrome\n",
      "browser_IE\n",
      "browser_Safari\n",
      "browser_FireFox\n",
      "browser_Opera\n",
      "sex_M\n",
      "sex_F\n",
      "country_United States\n",
      "country_[not_specified]\n",
      "country_China\n",
      "country_Japan\n",
      "country_United Kingdom\n",
      "country_Korea Republic of\n",
      "country_Germany\n",
      "country_France\n",
      "country_Canada\n",
      "country_Brazil\n",
      "country_Australia\n",
      "country_Italy\n",
      "country_Russian Federation\n",
      "country_Netherlands\n",
      "country_India\n",
      "country_Taiwan; Republic of China (ROC)\n",
      "country_Romania\n",
      "country_Mexico\n",
      "country_Sweden\n",
      "country_Spain\n",
      "country_South Africa\n",
      "country_Switzerland\n",
      "country_Poland\n",
      "country_Argentina\n",
      "country_Indonesia\n",
      "country_Norway\n",
      "country_Colombia\n",
      "country_Turkey\n",
      "country_Viet Nam\n",
      "country_Denmark\n",
      "country_Hong Kong\n",
      "country_Finland\n",
      "country_Austria\n",
      "country_Ukraine\n",
      "country_Chile\n",
      "country_Belgium\n",
      "country_Iran (ISLAMIC Republic Of)\n",
      "country_Egypt\n",
      "country_Czech Republic\n",
      "country_Thailand\n",
      "country_New Zealand\n",
      "country_Israel\n",
      "country_Saudi Arabia\n",
      "country_Venezuela\n",
      "country_Ireland\n",
      "country_European Union\n",
      "country_Greece\n",
      "country_Portugal\n",
      "country_Hungary\n",
      "country_Malaysia\n",
      "country_Singapore\n",
      "country_Pakistan\n",
      "country_Philippines\n",
      "country_Bulgaria\n",
      "country_Morocco\n",
      "country_Algeria\n",
      "country_Peru\n",
      "country_Tunisia\n",
      "country_United Arab Emirates\n",
      "country_Ecuador\n",
      "country_Seychelles\n",
      "country_Lithuania\n",
      "country_Kenya\n",
      "country_Kazakhstan\n",
      "country_Costa Rica\n",
      "country_Kuwait\n",
      "country_Slovenia\n",
      "country_Slovakia (SLOVAK Republic)\n",
      "country_Uruguay\n",
      "country_Croatia (LOCAL Name: Hrvatska)\n",
      "country_Luxembourg\n",
      "country_Belarus\n",
      "country_Serbia\n",
      "country_Nigeria\n",
      "country_Latvia\n",
      "country_Panama\n",
      "country_Bolivia\n",
      "country_Dominican Republic\n",
      "country_Cyprus\n",
      "country_Estonia\n",
      "country_Oman\n",
      "country_Bangladesh\n",
      "country_Moldova Republic of\n",
      "country_Paraguay\n",
      "country_Georgia\n",
      "country_Puerto Rico\n",
      "country_Sri Lanka\n",
      "country_Bosnia and Herzegowina\n",
      "country_Lebanon\n",
      "country_Jordan\n",
      "country_El Salvador\n",
      "country_Qatar\n",
      "country_Sudan\n",
      "country_Macedonia\n",
      "country_Syrian Arab Republic\n",
      "country_Angola\n",
      "country_Namibia\n",
      "country_Azerbaijan\n",
      "country_Malta\n",
      "country_Trinidad and Tobago\n",
      "country_Iraq\n",
      "country_Guatemala\n",
      "country_Iceland\n",
      "country_Kyrgyzstan\n",
      "country_Nepal\n",
      "country_Mauritius\n",
      "country_Palestinian Territory Occupied\n",
      "country_Nicaragua\n",
      "country_Mozambique\n",
      "country_Rwanda\n",
      "country_Cambodia\n",
      "country_Armenia\n",
      "country_Tanzania United Republic of\n",
      "country_Bahrain\n",
      "country_Libyan Arab Jamahiriya\n",
      "country_Albania\n",
      "country_Uganda\n",
      "country_Ghana\n",
      "country_Macau\n",
      "country_Uzbekistan\n",
      "country_Zambia\n",
      "country_Gabon\n",
      "country_Barbados\n",
      "country_Honduras\n",
      "country_Senegal\n",
      "country_Cuba\n",
      "country_Jamaica\n",
      "country_Guam\n",
      "country_Montenegro\n",
      "country_Malawi\n",
      "country_Belize\n",
      "country_Brunei Darussalam\n",
      "country_Cote D'ivoire\n",
      "country_Afghanistan\n",
      "country_Mongolia\n",
      "country_Zimbabwe\n",
      "country_Cameroon\n",
      "country_New Caledonia\n",
      "country_Ethiopia\n",
      "country_Lao People's Democratic Republic\n",
      "country_Bahamas\n",
      "country_Haiti\n",
      "country_Papua New Guinea\n",
      "country_Cayman Islands\n",
      "country_Congo The Democratic Republic of The\n",
      "country_Antigua and Barbuda\n",
      "country_Faroe Islands\n",
      "country_Congo\n",
      "country_Monaco\n",
      "country_Botswana\n",
      "country_Reunion\n",
      "country_Djibouti\n",
      "country_Virgin Islands (U.S.)\n",
      "country_Curacao\n",
      "country_Saint Kitts and Nevis\n",
      "country_Gibraltar\n",
      "country_Liechtenstein\n",
      "country_Bhutan\n",
      "country_Burkina Faso\n",
      "country_Lesotho\n",
      "country_Bermuda\n",
      "country_Maldives\n",
      "country_Fiji\n",
      "country_Benin\n",
      "country_Guadeloupe\n",
      "country_Myanmar\n",
      "country_Bonaire; Sint Eustatius; Saba\n",
      "country_Saint Martin\n",
      "country_Tajikistan\n",
      "country_Dominica\n",
      "country_Burundi\n",
      "country_Yemen\n",
      "country_Gambia\n",
      "country_Vanuatu\n",
      "country_San Marino\n",
      "country_Nauru\n",
      "country_Turkmenistan\n",
      "country_Cape Verde\n",
      "country_Madagascar\n",
      "country_South Sudan\n",
      "country_British Indian Ocean Territory\n",
      "country_Niger\n"
     ]
    }
   ],
   "source": [
    "for x in X.columns:\n",
    "    print(x)"
   ]
  },
  {
   "cell_type": "code",
   "execution_count": 169,
   "metadata": {},
   "outputs": [],
   "source": [
    "X = enc.fit_transform(df)\n",
    "y = data['class']"
   ]
  },
  {
   "cell_type": "code",
   "execution_count": 170,
   "metadata": {},
   "outputs": [],
   "source": [
    "X_train, X_test, y_train, y_test = train_test_split(X.values, y.values)"
   ]
  },
  {
   "cell_type": "code",
   "execution_count": 175,
   "metadata": {},
   "outputs": [],
   "source": [
    "model = LogisticRegression(penalty='l2', C=2, \n",
    "                           solver='lbfgs', max_iter=500, verbose=100, n_jobs=None)"
   ]
  },
  {
   "cell_type": "code",
   "execution_count": 176,
   "metadata": {},
   "outputs": [
    {
     "name": "stdout",
     "output_type": "stream",
     "text": [
      "[Parallel(n_jobs=1)]: Using backend SequentialBackend with 1 concurrent workers.\n",
      "[Parallel(n_jobs=1)]: Done   1 out of   1 | elapsed:   19.9s remaining:    0.0s\n",
      "[Parallel(n_jobs=1)]: Done   1 out of   1 | elapsed:   19.9s finished\n"
     ]
    },
    {
     "data": {
      "text/plain": [
       "LogisticRegression(C=2, class_weight=None, dual=False, fit_intercept=True,\n",
       "          intercept_scaling=1, max_iter=500, multi_class='warn',\n",
       "          n_jobs=None, penalty='l2', random_state=None, solver='lbfgs',\n",
       "          tol=0.0001, verbose=100, warm_start=False)"
      ]
     },
     "execution_count": 176,
     "metadata": {},
     "output_type": "execute_result"
    }
   ],
   "source": [
    "model.fit(X_train, y_train)"
   ]
  },
  {
   "cell_type": "code",
   "execution_count": 178,
   "metadata": {},
   "outputs": [
    {
     "data": {
      "text/plain": [
       "array([[ 0.01310002,  0.01853634, -1.03838375, -0.08774292, -0.06358927,\n",
       "         0.10032194,  0.05023128, -0.07732623, -0.02271322,  0.02650873,\n",
       "        -0.02771081, -0.00926455, -0.0417457 ,  0.31459149,  0.14371071,\n",
       "         0.22834349,  0.3350828 ,  0.45727717,  0.23958315,  0.00933153,\n",
       "         0.35373264,  0.51823848,  0.27336275,  0.33845791,  0.12056556,\n",
       "         0.18222602,  0.12794527,  0.55560088,  0.10420751,  0.08197283,\n",
       "         0.6442507 ,  0.60065827, -0.02890714,  0.17181522,  0.27193206,\n",
       "        -0.34194049,  0.34526131,  0.23059941,  0.72566231, -0.03599786,\n",
       "         0.02978633,  0.09114816,  0.83414449,  0.70619549,  0.15210526,\n",
       "        -0.00485314,  0.44715671,  0.71293074,  0.72915222,  0.48273199,\n",
       "         0.69806132,  0.19139115, -0.16303503,  1.09639077, -0.68149057,\n",
       "         0.96065778,  0.69887941,  1.07062811, -0.34439325,  0.68678805,\n",
       "        -0.57658274,  0.20847509, -0.23309458, -0.29505896, -0.5619807 ,\n",
       "        -0.00633072, -1.6759975 , -0.31623258,  0.33610419,  1.42223001,\n",
       "         1.14098313,  0.73597102,  1.38962443,  0.58395783,  0.82932535,\n",
       "         0.26531578,  0.06086478,  0.43637071,  1.28423474, -1.23669126,\n",
       "        -1.20439168, -0.04403303,  0.46185915,  1.74846412, -0.5962501 ,\n",
       "        -1.51631246, -0.43744208,  0.62605969,  0.1576567 ,  0.68473534,\n",
       "        -0.19233817, -0.06059003, -0.27558145, -1.1865442 ,  0.28434021,\n",
       "        -0.03451995, -0.44006324, -0.10579619, -0.91216507,  1.50852992,\n",
       "        -0.28651745,  0.47290864, -1.14800294,  0.5337535 , -0.82310652,\n",
       "        -0.08344735, -0.99730025, -0.92912714, -0.14783481,  1.59759263,\n",
       "         0.66816008,  1.02660186, -0.3907589 , -0.90422453, -0.15455957,\n",
       "         0.68337074, -0.70376696, -1.02634713, -0.92124823, -0.84199986,\n",
       "         0.28653771, -0.71996436, -0.73017248, -0.96091993,  0.87343176,\n",
       "        -0.86086589, -0.68968907,  0.29352313, -0.32415878, -0.48765451,\n",
       "        -0.78047145, -0.36121201,  1.18469487, -0.44980875, -0.48712357,\n",
       "        -0.42859423,  0.44150097,  0.69740519, -0.53423312, -0.55852278,\n",
       "        -0.62419718,  0.25556596,  0.44265763, -0.40824217, -0.45493944,\n",
       "         0.38312594, -0.4654792 , -0.38170112, -0.30725649, -0.25444424,\n",
       "        -0.25555814]])"
      ]
     },
     "execution_count": 178,
     "metadata": {},
     "output_type": "execute_result"
    }
   ],
   "source": [
    "model.coef_"
   ]
  },
  {
   "cell_type": "code",
   "execution_count": 180,
   "metadata": {},
   "outputs": [],
   "source": [
    "y_pred = model.predict_proba(X_test)"
   ]
  },
  {
   "cell_type": "code",
   "execution_count": 188,
   "metadata": {},
   "outputs": [
    {
     "data": {
      "text/plain": [
       "array([[0.94666867, 0.05333133],\n",
       "       [0.95804462, 0.04195538],\n",
       "       [0.14131481, 0.85868519],\n",
       "       ...,\n",
       "       [0.13903039, 0.86096961],\n",
       "       [0.95561896, 0.04438104],\n",
       "       [0.95606056, 0.04393944]])"
      ]
     },
     "execution_count": 188,
     "metadata": {},
     "output_type": "execute_result"
    }
   ],
   "source": [
    "y_pred"
   ]
  },
  {
   "cell_type": "code",
   "execution_count": 182,
   "metadata": {},
   "outputs": [
    {
     "data": {
      "text/plain": [
       "0.271886119791659"
      ]
     },
     "execution_count": 182,
     "metadata": {},
     "output_type": "execute_result"
    }
   ],
   "source": [
    "log_loss(y_test, y_pred)"
   ]
  },
  {
   "cell_type": "code",
   "execution_count": 183,
   "metadata": {},
   "outputs": [],
   "source": [
    "from sklearn.ensemble import GradientBoostingClassifier"
   ]
  },
  {
   "cell_type": "code",
   "execution_count": 184,
   "metadata": {},
   "outputs": [],
   "source": [
    "gb = GradientBoostingClassifier(learning_rate=0.1, n_estimators=100)"
   ]
  },
  {
   "cell_type": "code",
   "execution_count": 185,
   "metadata": {},
   "outputs": [
    {
     "data": {
      "text/plain": [
       "GradientBoostingClassifier(criterion='friedman_mse', init=None,\n",
       "              learning_rate=0.1, loss='deviance', max_depth=3,\n",
       "              max_features=None, max_leaf_nodes=None,\n",
       "              min_impurity_decrease=0.0, min_impurity_split=None,\n",
       "              min_samples_leaf=1, min_samples_split=2,\n",
       "              min_weight_fraction_leaf=0.0, n_estimators=100,\n",
       "              n_iter_no_change=None, presort='auto', random_state=None,\n",
       "              subsample=1.0, tol=0.0001, validation_fraction=0.1,\n",
       "              verbose=0, warm_start=False)"
      ]
     },
     "execution_count": 185,
     "metadata": {},
     "output_type": "execute_result"
    }
   ],
   "source": [
    "gb.fit(X_train, y_train)"
   ]
  },
  {
   "cell_type": "code",
   "execution_count": 187,
   "metadata": {},
   "outputs": [],
   "source": [
    "y_pred = gb.predict_proba(X_test)"
   ]
  },
  {
   "cell_type": "code",
   "execution_count": null,
   "metadata": {},
   "outputs": [],
   "source": []
  }
 ],
 "metadata": {
  "kernelspec": {
   "display_name": "Python 3",
   "language": "python",
   "name": "python3"
  },
  "language_info": {
   "codemirror_mode": {
    "name": "ipython",
    "version": 3
   },
   "file_extension": ".py",
   "mimetype": "text/x-python",
   "name": "python",
   "nbconvert_exporter": "python",
   "pygments_lexer": "ipython3",
   "version": "3.6.4"
  }
 },
 "nbformat": 4,
 "nbformat_minor": 2
}
